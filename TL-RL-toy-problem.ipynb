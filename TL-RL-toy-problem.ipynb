{
 "cells": [
  {
   "cell_type": "code",
   "execution_count": 7,
   "id": "8365dc7c",
   "metadata": {},
   "outputs": [],
   "source": [
    "import numpy as np\n",
    "import matplotlib.pyplot as plt\n",
    "from utils import *"
   ]
  },
  {
   "attachments": {},
   "cell_type": "markdown",
   "id": "2ab18d53",
   "metadata": {},
   "source": [
    "% LaTeX macros...\n",
    "$\\newcommand{\\R}{\\mathbb{R}}$\n",
    "$\\newcommand{\\N}{\\mathbb{N}}$\n",
    "$\\newcommand{\\P}{\\mathcal{P}}$\n",
    "$\\newcommand{\\U}{\\mathcal{U}}$\n",
    "$\\newcommand{\\J}{\\mathfrak{J}}$\n",
    "$\\newcommand{\\x}{\\mathbf{x}}$\n",
    "$\\renewcommand{\\v}{\\mathbf{v}}$\n",
    "$\\renewcommand{\\u}{\\mathbf{u}}$\n",
    "$\\newcommand{\\bigO}{\\mathcal{O}}$\n",
    "$\\newcommand{\\dd}{\\, \\mathrm{d}}$\n",
    "$\\newcommand{\\dt}[1]{\\dot{#1}}$\n",
    "$\\newcommand{\\d}{\\mathrm{d}}$\n",
    "$\\newcommand{\\T}{\\mathrm{T}}$\n",
    "$\\newcommand{\\intset}[2]{\\{#1, ..., #2\\}}$"
   ]
  },
  {
   "cell_type": "markdown",
   "id": "a5867a32",
   "metadata": {},
   "source": [
    "Notations:\n",
    "- $\\dt{x}$ is the derivative in time of $x$;\n",
    "- if $x$ is a column vector, $x^\\T$ is the corresponding row vector;\n",
    "- $A^\\T$ is the transpose of $A$. "
   ]
  },
  {
   "attachments": {},
   "cell_type": "markdown",
   "id": "6854b4fe",
   "metadata": {},
   "source": [
    "# Introduction"
   ]
  },
  {
   "attachments": {},
   "cell_type": "markdown",
   "id": "1eed338c-1d56-4f9a-9dcd-c5f492e2d726",
   "metadata": {},
   "source": [
    "In this notebook, we discuss some motivations for the use of RL (Reinforcement Learning) for different kinds of applications, and we illustrate some of the strengths of RL, but also some of its drawbacks. We also start a discussion on TL (Transfer Learning) for RL as a way to alleviate one of the main drawbacks of RL, which is its data-inefficacy leading to resource-intensive traning phases."
   ]
  },
  {
   "attachments": {},
   "cell_type": "markdown",
   "id": "5e4a52d6",
   "metadata": {},
   "source": [
    "## Reinforcement learning: strengths and weaknesses"
   ]
  },
  {
   "attachments": {},
   "cell_type": "markdown",
   "id": "b7078067",
   "metadata": {},
   "source": [
    "RL is a machine learning framing in which an agent evolves in an environment by making decisions and tries to maximize a sum of rewards that are collected as it evolves through the environment. More precisely, a problem formulated in the RL framing is a sequential problem where at each step, the environment is in a given state. The agent receives a (full or partial) observation of this state and takes a decision accordingly. Resulting from that decision, the environment grants a reward to the agent and moves to a new state: this is the starting point for a new step of the problem. Therefore, the goal of the agent is to take decisions so as to maximize its cumulative rewards, not only the current ones but also future ones (whch might be a long time in the future).\n",
    "\n",
    "RL problems are hence particularly suited to iterative problems of adaptive control of a system in which the environment evolves, sometimes unpredictibly, spontaneously or in response to the adopted control.\n",
    "\n",
    "Before mentioning applications for which RL is well suited, let's recall some strengths and weaknesses of RL.\n",
    "On the one hand:\n",
    "\n",
    "- As for many machine learning methods (especially deep learning approaches), once trained, an RL agent can solve the problems it has been trained for with very little computational cost (which makes it ideal for online problems).\n",
    "\n",
    "- It can work model-free, meaning that it doesn't need to know the model underlying the transition of the environment from one state to another in response to a decision. Instead, it can solely rely on a set of samples, where a sample has to be udnerstood as a transition, that is a tuple (state, action, reward, new state).\n",
    "\n",
    "- It can learn online, meaning that it can keep increasing its performance as it evolves in a environment, which can be useful in cases where the environment changes over time.\n",
    "\n",
    "- Thanks to its ability to estimate the quality of a given state, it can efficiently tackle problems with long-term rewards.\n",
    "\n",
    "- Likewise, but also thanks to the compromise it proposes to find between exploration of the environment and exploitation of well-rewarding paths, it can tackle high-dimensional problems.\n",
    "\n",
    "- Because it works in a _divide-and-conquer_ fashion, it is a good starting point to simplify a problem by simplifying each of its sub-problems.\n",
    "\n",
    "On the other hand:\n",
    "\n",
    "- It needs the design of a reward function that can be hard to define: you want this quantitative reward to be representative of a goal that is sometimes qualitative; you don't want to make it too long-term, but artificially defining intermediary rewards might add biases in the training...\n",
    "\n",
    "- It is usually sample-inefficient, meaning that it needs a lot of data to learn. Depending on your problem, that might not be too troublesome if data can be easily generated by simply interacting with the environment or even by simulation.\n",
    "\n",
    "- Adapting RL methods to continuous-time problems is not always straightforward, and sometimes you'll want to discretize your problem, leading to approximations.\n",
    "\n",
    "- More generally, adapting a problem to RL needs cumbersome and heavy-weight modelling.\n",
    "\n",
    "- So far, the RL research landscape is not well unified. For example, unlike _e.g._ supervised learning which comes with well established libraries (_Pytorch_, Tensorflow, scikit-learn...), RL doesn't have a unified library with well-implemented methods but also elementary blocks to customize your own methods."
   ]
  },
  {
   "attachments": {},
   "cell_type": "markdown",
   "id": "d0ca9612",
   "metadata": {},
   "source": [
    "## What to use reinforcement learning for?\n",
    "\n",
    "Firstly, here are some situations where you _don't_ want to use reinforcement learning:\n",
    "\n",
    "- There is a single instance of your problem that you want to solve offline (and classical methods can give you satisfying results).\n",
    "\n",
    "- Real time problems but that are simple and for which classical methods work well and fast.\n",
    "\n",
    "- Problems where you don't have much data and you want good results right away.\n",
    "\n",
    "Instead, msot scenarios for which RL can be applied involve solving an online problem in an adaptive way, that is real-time problems where you discover the state of the environment at the last moment and you have to take decisions efficiently. These problems can be of various type: reaching a target in limited time, stabilizing the system in this target, finding maximizing a function over a trajectory, or anything for which a reward can be designed correctly. In some cases, the model might be known, but you still cannot design a planned control for the system for various reasons:\n",
    "\n",
    "- It is stochastic. In this case, you could design an offline-control that optimizes the _expected_ reward, but you would not benefit from information discovered as you go. A variation of this case is when you the initial condition is random and you want, for example, to reach a final target.\n",
    "\n",
    "- The system is deterministic but _chaotic_ (think of an inverted double-pendulum that we want ), matking a pre-defined control unreliable.\n",
    "\n",
    "- Equivalently, the system is _uncertain_ (for example, you don't know some parameter with full precision, or you are not sure how your system will behave exactly in some circumstances).\n",
    "\n",
    "- The model _varies with time_.\n",
    "\n",
    "- The problem is offline, but it is so complex (_e.g._ high-dimensional) that you want to address it in an online framing to explore solutions in an efficient manner. This is what happens when using RL to beat some video games.\n",
    "\n",
    "In these contexts, you might still be able to use some classical adaptive control methods with feedback to adjust the control as you go (potentially using some approximations of the model). Therefore, in these cases, Rl should only be considered if traditional adaptive methods are not performing fast enough or well enough; in particular in cases that seem to match the strengths of RL mentioned above such as long-term rewards. But there are also cases of online problems where you don't even have any model at all, again for various possible reasons:\n",
    "\n",
    "- The real-world black-box system you are studying is too complex to be modelled with traditional inverse problem solving.\n",
    "\n",
    "- Solving an inverse problem is possible, but would consume too much resources. This scenario should be considered with caution, as gathering enough data and training an RL agent long enough to get satsifying results might be even more resource-consuming!\n",
    "\n",
    "- You don't have enough data to infer a model by inverse problem solving, and an efficient way to gather data is by interacting with the system: RL might be a good choice to gather this data in a clever way.\n",
    "\n",
    "- You don't _want_ to use a model because model-based methods have proved unefficient, for example because of the bias they introduce (see for example [@sivak_quantum]).\n",
    "\n",
    "In these cases, you can hardly use any classical model-based method, and RL is one option to have some solution.\n",
    "\n",
    "Now, imagine problems where the environment is combining many of these difficulties: complex black-box systems with unpredictible events and time-varying mechanics at the same time. This makes very complex problems to tackle with traditional methods. This is for example the case in autonomous driving, where deep RL is used for motion planning and control [@bachute_autonomous_driving]. Indeed, in this example, the car is a complex system, the shape of the road and the behaviour of the car in front of the controlled one can't be predicted and the response of the car to inpyts might change depending on the state of the road, but also of the car components...\n",
    "\n",
    "A last class of applications that we could mention is that of inverse reinforcement problems, which is of different nature and aim: we have a control (or a behaviour) that optimizes some objective, and we want to find a reward that is being optimized by this control. This could have several applications:\n",
    "\n",
    "- You want to study and explain the agent that applied the control. For example, to explain the speed of human motions [@berret_human_motion] .\n",
    "\n",
    "- You have some expert demonstration to solve a problem, and you want to design a reward that can then be used to train _e.g._ an RL agent more efficiently.\n",
    "\n",
    "From there, there are plenty of applications of RL in many domains, from robotics, to finance, to operation research, to medical imaging, to quantum mechanics. Many of these applications can be found in the litterature, and we are not reviewing it here.\n",
    "\n",
    "However, in the future, we will be interested in problems involving physical ODEs and PDEs, especially in fluid mechanics. Paul Garnier made a good review on recent research on RL applied to systems involving fluid mechanics [@garnier_fluid_mechanics]. One of them include a control problem involving two fishes, one leader and one follower, and the objective is to learn the appropriate swimming motion of the follower so as to benefit from the fluid turbulence caused by the leader, so as to minimize the energy necessary to swim [@novati_synchronisation_swimmers]. These problems usually involve models that are known (after all, the system is ruled by the Navier-Stokes equaton, or some approximation of it), but which are quite chaotic, sometimes stochastic (for example the previous problem, the motion of the leader might not be known entirely) and also very computationally demanding. Even with a perfectly known model, classical optimization methods are immensly resource-consuming.\n",
    "\n",
    "This is why RL may be of some help in these problems."
   ]
  },
  {
   "attachments": {},
   "cell_type": "markdown",
   "id": "cfcc0920",
   "metadata": {},
   "source": [
    "## Goal of this notebook\n",
    "\n",
    "The aim of this notebook is essentially two-fold:\n",
    "\n",
    "1. Motivate the use of RL in problems involving physical ODEs by illustrating it with a very simple, linear control problem. The idea being to highlight the benefits of RL in this example in terms of computational gains, in circumstances where you don't know the initial conditions in advance and the model contains a share of stochasticity. But we will also underline some drawbacks of RL already mentioned above. Besides, this example will inevitably be somewhat artificial, because we already have an analytical solution and the problem is very simple (making RL an unnecessarily complex solution in this case). \n",
    "\n",
    "2. Exemplify the use of TL in RL to see how it can compensate for one of RL's main drawbacks, which is that of its sample inefficacy. This is particuarly relevant for fluid mechanics where samples can be expansive to get due to the costly forward simulations.\n",
    "\n",
    "---"
   ]
  },
  {
   "attachments": {},
   "cell_type": "markdown",
   "id": "3cfa9157",
   "metadata": {},
   "source": [
    "# Outline\n",
    "\n",
    "1. Introduction of the toy-problem\n",
    "\n",
    "2. Analytical solution\n",
    "\n",
    "2. Short review of traditional methods\n",
    "\n",
    "2. Disctretization of the physical problem in time\n",
    "\n",
    "3. Solving by gradient descent\n",
    "\n",
    "4. Introduction of an RL method to tackle the problem\n",
    "\n",
    "5. Solving by Reinforcement learning\n",
    "\n",
    "6. Analysis of the results\n",
    "\n",
    "    1. General performance\n",
    "\n",
    "    2. Interpretation of the algorithm's learning\n",
    "\n",
    "    3. Computational gain\n",
    "\n",
    "    4. Drawbacks\n",
    "\n",
    "7. Transfer Learning\n",
    "\n",
    "    1. Introduction of the method\n",
    "\n",
    "    2. Application of the method\n",
    "\n",
    "    3. Analysis of the results\n",
    "\n",
    "---"
   ]
  },
  {
   "attachments": {},
   "cell_type": "markdown",
   "id": "e6e09472-28ef-43db-ab54-58eb0deca0fd",
   "metadata": {},
   "source": [
    "# Introduction of the toy problem\n",
    "\n",
    "Let's consider a small but typical problem. We have a system, for example a cart, that can move along a 1D axis $x$. We want to bring this cart from an initial position $x_0$ to a target position, namely $x = 0$, in finite time $T$ by exerting a force that we which to minimize.\n",
    "\n",
    "More precisly, the cart is assimilated to a mechanical point of mass $m > 0$ and its position is denoted by $x \\in \\Omega = \\R$. The initial position is drawn uniformly randomly in $\\Omega_0 = [-1, 0]$ and the initial velocity is null. The force we apply on the cart at a given instant is denoted by $u \\in U = \\R$, and we are looking for a control that maps any time $t \\in [0, T]$ to an action in $U$; this control is denoted by $\\mu \\in \\U = L^1\\big( [0, T], U \\big)$. The dynamics of the system write:\n",
    "$$\n",
    "    \\begin{cases}\n",
    "        m \\ddot{x}(t) = \\mu(t) & \\forall t \\in [0, T],\\\\\n",
    "        x(0) = x_0,\\\\\n",
    "        \\dt{x}(0) = 0,\n",
    "    \\end{cases}\n",
    "$$\n",
    "and we want to find $\\mu$ that optimizes the cost functional $J$:\n",
    "$$\n",
    "    \\min_{\\mu \\in \\U} J(\\mu)\n",
    "$$\n",
    "where\n",
    "$$\n",
    "    J(\\mu) = \\lambda_P x(T)^2 + \\lambda_V \\dt{x}(T)^2 + \\int_0^T \\mu(t)^2 \\dd t\n",
    "$$\n",
    "with $\\lambda_P,\\, \\lambda_V > 0$ two parameters that sets the penalizations for not reaching the target a time $T$ and not stopping at $T$ respectively. One interpretation could be that we have some tolerance on the final position, we can stop instantaneously at time $T$ but this damages the cart's brakes, and finally exerting a force has some energy cost. Thereafter, we'll also denote $\\lambda = (\\lambda_P, \\lambda_V)$ to alleviate notations.\n",
    "\n",
    "Note that this problem is already formulated as a continuous optimal control problem with a mostly known model. In what follows, we will consider $m$ as an uknown parameter of the problem, while $\\lambda$ is known; but for the sake of simulation we need to choose these parameters right away."
   ]
  },
  {
   "cell_type": "code",
   "execution_count": 8,
   "id": "45f84c69",
   "metadata": {},
   "outputs": [],
   "source": [
    "m = 1  # Mass of the cart\n",
    "LAMBDA_P = 100  # Penalization for not reaching the target at time T\n",
    "LAMBDA_V = 50  # Penalization for not reaching the target at time T\n",
    "T = 1  # Time horizon of the problem"
   ]
  },
  {
   "attachments": {},
   "cell_type": "markdown",
   "id": "f448122c",
   "metadata": {},
   "source": [
    "Before going further, let's characterize this problem a bit. It is deterministic, of fixed time-horizon, continuous in time and with fully-observed state. The fact that we add some penalization on the final state makes it a problem with a \"long-time\" return, in the sense that most of the cost comes at the very end of the evolution process; but at the same time, penalization on the intensity of the force introduces intermediary costs along a trajectory. We could also have chosen hard constraints, for example on attaining the target at the final time, but ultimately we'll need to characterize this constraint in some way when implementing an RL method."
   ]
  },
  {
   "attachments": {},
   "cell_type": "markdown",
   "id": "754e8ea2-1153-4392-bc9e-c17f02393727",
   "metadata": {},
   "source": [
    "# Solving analytically"
   ]
  },
  {
   "attachments": {},
   "cell_type": "markdown",
   "id": "5b00fcce",
   "metadata": {},
   "source": [
    "For the sake of evaluating our results, we will work out an analytical solution for this problem. In practice, you wouldn't have such a solution (otherwise, you wouldn't bother doing any of this...).\n",
    "\n",
    "The above problem can be seen as a linear quadratic regulator as follows:\n",
    "$$\n",
    "\\begin{cases}\n",
    "    \\dot{X}(t) = A X(t) + B \\mu(t) & \\forall t \\in [0, T],\\\\\n",
    "    X(0) = (0, 0)^\\T,\n",
    "\\end{cases}\n",
    "$$\n",
    "with\n",
    "$$\n",
    "    \\forall t \\in [0, T], \\ X(t) = \\begin{pmatrix}\n",
    "        x(t)\\\\\n",
    "        \\dot{x}(t)\n",
    "    \\end{pmatrix}, \\qquad\n",
    "    A = \\begin{pmatrix}\n",
    "        0 & 1\\\\\n",
    "        0 & 0\n",
    "    \\end{pmatrix} \\quad and \\quad\n",
    "    B = \\frac{1}{m} \\begin{pmatrix}\n",
    "        0\\\\\n",
    "        1\n",
    "    \\end{pmatrix}\n",
    "$$\n",
    "and\n",
    "$$\n",
    "    J(\\mu) = \\int_0^T (\\mu(t)^\\T R\\mu(t)) \\dd t + X(T)^\\T D X(T)\n",
    "$$\n",
    "with\n",
    "$$\n",
    "    R = 1 \\quad and \\quad D = \\begin{pmatrix}\n",
    "        \\lambda_P & 0\\\\\n",
    "        0 & \\lambda_V\n",
    "    \\end{pmatrix}\n",
    "$$\n",
    "\n",
    "<!-- Using the adjoint state $p$ to solve this problem, we get:\n",
    "$$\n",
    "\\boxed{\n",
    "\\forall t \\in [0, T], \\ \n",
    "\\begin{cases}\n",
    "    \\mu(t) = \\frac{1}{m} \\big( \\lambda_P x(T) t - C \\big),\\\\[1ex]\n",
    "     p(t) = \\begin{pmatrix}\n",
    "        \\lambda_P x(T)\\\\\n",
    "        -\\lambda_P x(T) t + C\n",
    "    \\end{pmatrix},\\\\[1em]\n",
    "    x(t) = \\frac{\\lambda_P x(T)}{6 m^2} t^3 - \\frac{C}{2 m^2} t^2 + x_0,\n",
    "\\end{cases}\n",
    "}\n",
    "$$\n",
    "with\n",
    "$$\n",
    "C = \\lambda_V \\dot{x}(T) + \\lambda_P x(T) T, \\qquad x(T) = x_0 \\frac{D_1}{D_1 C_2 - C_1 D_2} \\quad \\text{and} \\quad \\dot{x}(T) = x_0 \\frac{D_2}{C_1 D_2 - C_2 D_1}\n",
    "$$\n",
    "where\n",
    "$$\n",
    "    C_1 = \\frac{6 m^2 + 2 \\lambda_P T^3}{6 m^2}, \\quad C_2 = \\frac{\\lambda_V T^2}{2 m^2} \\quad \\text{and} \\quad D_1 = \\frac{\\lambda_P T^2}{2 m^2}, \\quad D_2 = \\frac{\\lambda_V T}{m^2}\n",
    "$$ -->"
   ]
  },
  {
   "attachments": {},
   "cell_type": "markdown",
   "id": "46a46311",
   "metadata": {},
   "source": [
    "Using the adjoint state $p$ to solve this problem, we get:\n",
    "$$\n",
    "\\boxed{\n",
    "\\forall t \\in [0, T], \\ \n",
    "\\begin{cases}\n",
    "    \\mu(t) = \\frac{12 m \\lambda_P x_0}{\\lambda_P T^3 + 12 m^2} t - \\frac{6 m \\lambda_P T x_0}{\\lambda_P T^3 + 12 m^2} ,\\\\[1ex]\n",
    "    x(t) = \\frac{2 \\lambda_P x_0}{\\lambda_P T^3 + 12 m^2} t^3 - \\frac{3 \\lambda_P T x_0}{\\lambda_P T^3 + 12 m^2} t^2 + x_0,\\\\[1ex]\n",
    "    \\dot{x} = \\frac{6 \\lambda_P x_0}{\\lambda_P T^3 + 12 m^2} t^2 - \\frac{6 \\lambda_P T x_0}{\\lambda_P T^3 + 12 m^2} t\n",
    "\\end{cases}\n",
    "}"
   ]
  },
  {
   "cell_type": "code",
   "execution_count": 9,
   "id": "e7622e8c",
   "metadata": {},
   "outputs": [],
   "source": [
    "def ground_truth(x_0, t):\n",
    "    \"\"\"\n",
    "    Analytical expressions of the trajectory, its derivative and the control for the continuous control problem.\n",
    "        :param float x_0: Initial condition in [-1, 0].\n",
    "        :return: The ground truth solution, its derivative and the ground truth control.\n",
    "        :rtype: 3-tuple of float.\n",
    "    \"\"\"\n",
    "    D = LAMBDA_P*T**3 + 12*m**2\n",
    "    return (\n",
    "        (2*LAMBDA_P*x_0/D)*t**3 - (3*LAMBDA_P*T*x_0/D)*t**2 + x_0,\n",
    "        (6*LAMBDA_P*x_0/D)*t**2 - (6*LAMBDA_P*T*x_0/D)*t,\n",
    "        (12*m*LAMBDA_P*x_0/D)*t - (6*m*LAMBDA_P*T*x_0/D)\n",
    "    )"
   ]
  },
  {
   "cell_type": "code",
   "execution_count": 10,
   "id": "c0e717a1",
   "metadata": {},
   "outputs": [],
   "source": [
    "def ground_truth_sample(x_0, res=10000):\n",
    "    \"\"\"\n",
    "    Samples the analytical trajectory, its derivative and the analytical control for the continuous control problem.\n",
    "        :param float x_0: Initial condition in [-1, 0].\n",
    "        :param int res: Number of points to sample.\n",
    "        :return: The sampled solution and control.\n",
    "        :rtype: 3-tuple of np.ndarray[float] all of shape (res).\n",
    "    \"\"\"\n",
    "    t = np.linspace(0, T, res)\n",
    "    return ground_truth(x_0, t)"
   ]
  },
  {
   "cell_type": "code",
   "execution_count": 11,
   "id": "1cc5a845",
   "metadata": {},
   "outputs": [],
   "source": [
    "def cost(x, x_dot, u):\n",
    "    \"\"\"\n",
    "    Approximation of the cost function evaluated in a given trajectory-control pair (x, u), using trapezoidal rule.\n",
    "        :param np.ndarray[float] x: The trajectory.\n",
    "        :param np.ndarray[float] x_dot: The temporal derivative of the trajectory.\n",
    "        :param np.ndarray[float] u: The control.\n",
    "        :return float: Approximation of the cost.\n",
    "    \"\"\"\n",
    "    return LAMBDA_P*x[-1]**2 + LAMBDA_V*x_dot[-1]**2 + np.trapz(u**2, dx=T/u.shape[0])"
   ]
  },
  {
   "cell_type": "code",
   "execution_count": 23,
   "id": "4e9a5c8a",
   "metadata": {},
   "outputs": [
    {
     "data": {
      "image/png": "[encoded data removed]",
      "text/plain": [
       "<Figure size 640x480 with 1 Axes>"
      ]
     },
     "metadata": {},
     "output_type": "display_data"
    },
    {
     "data": {
      "image/png": "[encoded data removed]",
      "text/plain": [
       "<Figure size 640x480 with 1 Axes>"
      ]
     },
     "metadata": {},
     "output_type": "display_data"
    },
    {
     "data": {
      "text/plain": [
       "8.677796711112443"
      ]
     },
     "execution_count": 23,
     "metadata": {},
     "output_type": "execute_result"
    }
   ],
   "source": [
    "gt_x, gt_x_dot, gt_u = ground_truth_sample(x_0=-0.9)\n",
    "plot_trajectory(gt_x=gt_x, T=T)\n",
    "plot_control(gt_u=gt_u, T=T)\n",
    "# Approximation of the optimal cost\n",
    "cost(gt_x, gt_x_dot, gt_u)"
   ]
  },
  {
   "attachments": {},
   "cell_type": "markdown",
   "id": "f7729112",
   "metadata": {},
   "source": [
    "# Short review of traditional methods"
   ]
  },
  {
   "attachments": {},
   "cell_type": "markdown",
   "id": "4efbb3c2",
   "metadata": {},
   "source": [
    "Let's now assume that we don't have an analytical solution. How can we solve this control problem? The classical, naive way would be to solve an inverse problem to fit a model and determine $m$ thereby. From there, we can use one of the traditional methods described below.\n",
    "\n",
    "Classical methods that don't resort to ML to solve control problems can be classified into 3 classes of methods:\n",
    "\n",
    "1. Dynamic programming methods, for example integrating HJB equations backwards to get the value function and derive a control. These are very computationally expansive methods that are rarely used as-is (approximations are used, which is somewhat what we are doing with RL...).\n",
    "\n",
    "2. Direct methods, in which the state equation is discretized in time and the state and/or the control are parameterized, so as to end up with a (usually high-dimensional but sparse) NLP problem that is solved with traditional solvers. These solvers might use computations of the gradient, that may be worked out using integrations of the adjoint state equation.\n",
    "\n",
    "3. Indirect methods use the theory of calculus of variations and Pontryagin's minimum principle to derive a non-linear system to solve. These methods usually reduce to solving an problem of the type $F(x, p, u) = 0$.\n",
    "\n",
    "Direct and indirect methods typically come in traditional variants:\n",
    "\n",
    "1. Single/multiple shooting methods: these are suited to boundary value problems with multiple boundaries. In essence: one boundary is fixed, one control is proposed and the solution corresponding solution is integrated starting from this boundary up to the other boundarie(s) to see if constraints at these boundaries are fulfilled. If they are not, another control is propsoed to try and get closer to the boundary constraints, and so on. In the multiple shooting variant, starting from the initial boundary, the proposed solution is only integrated up to a certain point from which another portion of the control is proposed an so on until the other boundaries. This allows to alleviate the difficulties of long-term integrations in which numerical errors might accumulate and grow, especially if the state equation is very sensitive.\n",
    "\n",
    "2. Local/global collocation methods: the collocation method initially refers to a method used to solve forward problems in which the state function $x$ is approximated by a parameterized function (for example as a polynomial function) and the coefficients for this approximating function are chosen so that $x$ verifies the state equation at given points (called collocation points). This moves the problem to that of an algebraic system. In a collocation control method, $u$ is also approximated by a parameterized function and the paramters for $u$ must be chosen so as to minimize the objective function. When the approximating functions form an orthogonal basis of smooth functions, the method is said to be an orthogonal collocation method. A local collocation method only approximates the functions piece-wise on successive time intervals, and constraints are added to ensure continuity on interfaces between two time intervals. A global collocation method approximates function on the entire time range. Global orthogonal collocation methods are called pseudospectral methods.\n",
    "\n",
    "Typically, shooting methods require using \"time marching\" integration methods such as Euler or Runge Kutta to integrate the state ODE, while collocation integrate the state equatio \"simultaneously\" as an algebraic system.\n",
    "\n",
    "Nowadays, direct methods are the most commonly used ones, because they reformulate the problem as an NLP problem for which any well established and efficient solvers exist. In other words, these methods are an easy way to move the problem to a well-known one. In particular, pseudospectral methods are among the most accurate ones, at least for smooth functions, but are also quite computational.\n",
    "\n",
    "More thorough reviews of such methods exist in the literature, see for instance [@rao_classical_numerical_control] and [@biral_classical_numerical_control].\n",
    "\n",
    "Another common distinction for numerical control methods is that between discretize-then-control and control-then-discretize methods. In what follows, we only look at the former.\n",
    "\n",
    "Note that in [@allahverdi_numerical_control_burgers], they use a discretize-then-optimize method in which the problem is discretized, the value function is also discretized accordingly using a simple quadrature rule, and the problem is solved by simple gradient descent. However, to compute the gradient descent more easily, they use the adjoint equation system that they solve to get the descent direction. But this method is not really suitable for our problem, because in our case the control is not applied simply at the initial time.\n",
    "\n",
    "In what follows, we simply discretize the problem in time, parameterize $\\mu$ as a piece-wise constant function and rewrite the cost function accordingly, so as to rewrite the problem as an NLP problem. The latter will be solved with a simple Python solver, namely _scipy_'s optimization tools."
   ]
  },
  {
   "attachments": {},
   "cell_type": "markdown",
   "id": "e98de830",
   "metadata": {},
   "source": [
    "## [How about MPC? Lyapunov functions?]"
   ]
  },
  {
   "attachments": {},
   "cell_type": "markdown",
   "id": "2182f4e6",
   "metadata": {},
   "source": [
    "# Discretization of the problem in time"
   ]
  },
  {
   "attachments": {},
   "cell_type": "markdown",
   "id": "8cbff6ea",
   "metadata": {},
   "source": [
    "Let $N \\in \\N^*$ be the discretization resolution and $\\Delta t = \\frac{T}{N}$ the time step. Let $\\forall n \\in \\intset{0}{N}, \\ t_n = n \\Delta t, \\ u_n = \\mu(t_n)$, $x_n = x(t_n)$ and $v_n = \\dot{x}(t_n)$. We also denote by $\\mathbf{x}$, $\\mathbf{v}$ and $\\mathbf{u}$ the vectors $(x_0, ..., x_N)^\\T$, $(v_0, ..., v_N)^\\T$ and $(u_0, ..., u_{N-1})^\\T$ .\n",
    "\n",
    "With this discretization, we now _choose_ to search a control $\\mu$ in a subset $\\U_{\\Delta t} \\subset \\U$, namely:\n",
    "$$\n",
    "    \\U_{\\Delta t} = \\left\\{ \\left. \\sum_{n=0}^{N-1} u_n \\mathbb{1}_{[t_n, t_{n+1})} \\ \\right| \\ \\forall n \\in \\intset{0}{N}, u_n \\in U \\right\\}.\n",
    "$$\n",
    "\n",
    "Moreover, we observe that for any $u \\in \\U_{\\Delta t}$ and any $n \\in \\intset{0}{N-1}$:\n",
    "$$\n",
    "\\begin{aligned}\n",
    "    x_{n+1} &= x_n + \\int_{t_n}^{t_{n+1}} \\dot{x}(s) \\d s\\\\\n",
    "    &= x_n + \\int_{t_n}^{t_{n+1}} \\bigg( v_n + \\int_{t_n}^s \\big( \\ddot{x}(r) \\d r \\big) \\bigg) \\d s\\\\\n",
    "    &= x_n + \\Delta t\\,v_n + \\int_{t_n}^{t_{n+1}} \\bigg( \\int_{t_n}^s \\frac{u_n}{m} \\d r \\bigg) \\d s\\\\\n",
    "    &= x_n + \\Delta t\\,v_n + \\frac{{\\Delta t}^2}{2m} u_n\n",
    "\\end{aligned}\n",
    "$$\n",
    "and\n",
    "$$\n",
    "    v_{n+1} = v_n + \\frac{\\Delta t}{m} u_n.\n",
    "$$\n",
    "\n",
    "Furthermore, the cost function rewrites:\n",
    "$$\n",
    "    J(\\mathbf{u}) = \\lambda_P x_N^2 + \\lambda_V v_N^2 + \\Delta t \\sum_{n=0}^{N-1} u_n^2.\n",
    "$$"
   ]
  },
  {
   "cell_type": "code",
   "execution_count": 33,
   "id": "739c475c",
   "metadata": {},
   "outputs": [],
   "source": [
    "N = 100\n",
    "DT = T/N"
   ]
  },
  {
   "cell_type": "markdown",
   "id": "2cb218f5",
   "metadata": {},
   "source": [
    "# Solving by inverse problem and gradient descent"
   ]
  },
  {
   "attachments": {},
   "cell_type": "markdown",
   "id": "8ad0209d",
   "metadata": {},
   "source": [
    "In classical technicsn what you'd want to do is to infer the model underlying your system, and use that infered model to run numerical optimal control methods like those surveyed above. Modern industrial methods like model predictive control procede in such a manner. regularly throughout the evolution of the system, the model is re-evaluated, and optimization is carried-out on a short-term horizon; and this process is repeated so as to continuously update the proposed control in a closed-feedback manner"
   ]
  },
  {
   "attachments": {},
   "cell_type": "markdown",
   "id": "072c9507",
   "metadata": {},
   "source": [
    "## Finding the model"
   ]
  },
  {
   "attachments": {},
   "cell_type": "markdown",
   "id": "00b6e9da",
   "metadata": {},
   "source": [
    "Before applying control algorithms, we need to identify the mass $m$. This is an isntance of _model indentification_ problem and is part of the theory of indetifiability. A model is said indentifiable if it can be fully infered from an infinite number of observations. This is particularly meaningful when the model is stochastic, and each model paramter should lead to a different probability distribution of the observations for the system to be identifiable.\n",
    "In the case of our system,"
   ]
  },
  {
   "attachments": {},
   "cell_type": "markdown",
   "id": "74911517",
   "metadata": {},
   "source": [
    "## Solve optimal problem by gradient descent"
   ]
  },
  {
   "attachments": {},
   "cell_type": "markdown",
   "id": "3f80170c",
   "metadata": {},
   "source": [
    "<!-- With the previous discretization, the problem rewrites as an NLP:\n",
    "$$\n",
    "    \\min_{\\x,\\, \\v,\\, \\u} \\J(\\x, \\v, \\u),\n",
    "$$\n",
    "where\n",
    "$$\n",
    "    \\J(\\x, \\v, \\u) = \\lambda_P \\x_N^2 + \\lambda_V \\v_N^2 + \\Delta t \\sum_{n=0}^{N-1} \\u_n^2\n",
    "$$\n",
    "and subject to\n",
    "$$\n",
    "\\begin{cases}\n",
    "    \\x_{n+1} = \\x_n + \\Delta t\\,\\v_n + \\frac{{\\Delta t}^2}{2m} \\u_n & \\forall n \\in \\intset{0}{N-1}\\\\\n",
    "    \\x_0 = x_0\\\\\n",
    "    \\v_{n+1} = \\v_n + \\frac{\\Delta t}{m} \\u_n & \\forall n \\in \\intset{0}{N-1}\\\\\n",
    "    \\v_0 = 0\\\\\n",
    "\\end{cases}\n",
    "$$\n",
    "\n",
    "This is an NLP problem with $M = N*N*(N-1)$ variables. We will solve it using _IPOPT_. -->"
   ]
  },
  {
   "attachments": {},
   "cell_type": "markdown",
   "id": "39fdf5c2",
   "metadata": {},
   "source": [
    "For this simple problem, we can easily express _x_ and _\\dot{x}_ in terms of the $u_k, k \\in \\intset{0}{n-1}$ and thus find the gradient of $J$ w.r.t. $u$. Therefore, we will here solve the problem using BFGS algorithm, as implemented in _scipy_.\n",
    "\n",
    "Note that for harder problems, expressing $x_N$ and $\\dot{x}_N$ in terms of $u$ and deriving an analytical gradient might be a much harder task and would require us _e.g._ to simulate the problem forward in ordr to estimate the gradient by finite difference, or to formulate the problem as an NLP problem and solve it, for instance, with _IPOPT_.\n",
    "\n",
    "We work out by hand that for all $t \\in [0, T]$:\n",
    "$$\n",
    "\\begin{cases}\n",
    "    \\displaystyle m \\dot{x}(t) = \\Delta t \\sum_{k=0}^{N(t)-1} u_k + (t - t_{N(t)}) u_{N(t)}\\\\\n",
    "    \\displaystyle m x(t) = m x_0 + \\sum_{n=0}^{N(t)-1} \\sum_{k=0}^{n} {\\Delta t}^2 u_k + \\sum_{k=0}^{N(t)-1} \\big( (t-t_{N(t)}) \\Delta t \\, u_k \\big) + \\frac{(t - t_{N(t)})^2}{2} u_{N(t)}\n",
    "\\end{cases}\n",
    "$$\n",
    "where $N(t) = \\left\\lfloor\\frac{t}{T}\\right\\rfloor N$.\n",
    "\n",
    "So,\n",
    "$$\n",
    "\\begin{cases}\n",
    "    \\displaystyle v_N(\\u) = \\frac{\\Delta t}{m} \\sum_{k=0}^{N-1} u_k\\\\\n",
    "    \\displaystyle x_N(\\u) = x_0 + \\frac{{\\Delta t}^2}{m}\\sum_{n=0}^{N-1} \\sum_{k=0}^{n} u_k = x_0 + \\frac{{\\Delta t}^2}{m}\\sum_{n=0}^{N-1} (N - n) u_n.\n",
    "\\end{cases}\n",
    "$$\n",
    "\n",
    "Thus,\n",
    "$$\n",
    "\\begin{cases}\n",
    "    \\displaystyle \\nabla v_N(\\u) = \\frac{\\Delta t}{m} \\begin{pmatrix} 1 \\\\ 1 \\\\ ... \\\\ 1 \\end{pmatrix} \\\\\n",
    "    \\displaystyle \\nabla x_N(\\u) = \\frac{{\\Delta t}^2}{m} \\begin{pmatrix} N \\\\ N-1 \\\\ ... \\\\ 1 \\end{pmatrix},\n",
    "\\end{cases}\n",
    "$$\n",
    "hence\n",
    "$$\n",
    "\\begin{cases}\n",
    "    \\displaystyle \\nabla (v_N^2)(\\u) = 2 \\left( \\frac{\\Delta t}{m} \\right)^2 \\, \\sum_{k=0}^{N-1} u_k \\begin{pmatrix} 1 \\\\ 1 \\\\ ... \\\\ 1 \\end{pmatrix} \\\\\n",
    "    \\displaystyle \\nabla (x_N^2)(\\u) = 2 \\frac{{\\Delta t}^2}{m} \\bigg( x_0 + \\frac{{\\Delta t}^2}{m}\\sum_{n=0}^{N-1} (N - k) u_k \\bigg) \\begin{pmatrix} N \\\\ N-1 \\\\ ... \\\\ 1 \\end{pmatrix}.\n",
    "\\end{cases}\n",
    "$$\n",
    "\n",
    "\n",
    "Finally,\n",
    "$$\n",
    "    \\nabla J(\\u) = 2 \\lambda_P \\frac{{\\Delta t}^2}{m} \\bigg( x_0 + \\frac{{\\Delta t}^2}{m}\\sum_{n=0}^{N-1}  (N - n) u_n \\bigg) + 2 \\lambda_V \\left( \\frac{\\Delta t}{m} \\right)^2 \\, \\sum_{k=0}^{N-1} u_k \\begin{pmatrix} 1 \\\\ 1 \\\\ ... \\\\ 1 \\end{pmatrix} + 2 \\Delta t \\u.\n",
    "$$"
   ]
  },
  {
   "cell_type": "code",
   "execution_count": 34,
   "id": "6d296059",
   "metadata": {},
   "outputs": [],
   "source": [
    "def J(u, x_0, m):\n",
    "    \"\"\"\n",
    "    Cost as a function of u and x_0, for a given mass m.\n",
    "      :param np.ndarray[float] u: N-vector representing the discretized u.\n",
    "      :param float x_0: Initial condition.\n",
    "      :param float m: Estimation of the mass.\n",
    "      :return float: The value of the cost function.\n",
    "    \"\"\"\n",
    "    x_N = x_0 + DT**2/m * np.sum(np.arange(N, 0, -1)*u)\n",
    "    v_N = DT/m * np.sum(u)\n",
    "    return LAMBDA_P*x_N**2 + LAMBDA_V*v_N**2 + DT*np.sum(u**2)\n",
    "\n",
    "def grad_J(u, x_0, m):\n",
    "    \"\"\"\n",
    "    Gradient of the cost function w.r.t. $u$ evaluated in u, for an initial condition x_0.\n",
    "      :param np.ndarray[float] u: N-vector representing the discretized u.\n",
    "      :param float x_0: Initial condition.\n",
    "      :param float m: Estimation of the mass.\n",
    "      :return float: The gradient of the cost function.\n",
    "    \"\"\"\n",
    "    grad_x_sq =  ( 2 * DT**2/m * (x_0 +  DT**2/m * np.sum(np.arange(N, 0, -1)*u)) ) * np.arange(N, 0, -1)\n",
    "    grad_v_sq = ( 2 * (DT/m)**2 * np.sum(u) ) * np.ones(N)\n",
    "    return LAMBDA_P*grad_x_sq + LAMBDA_V*grad_v_sq + 2*DT*u"
   ]
  },
  {
   "cell_type": "code",
   "execution_count": 40,
   "id": "60e099da",
   "metadata": {},
   "outputs": [
    {
     "name": "stdout",
     "output_type": "stream",
     "text": [
      "Optimization terminated successfully.\n",
      "         Current function value: 10.170303\n",
      "         Iterations: 10\n",
      "         Function evaluations: 11\n",
      "         Gradient evaluations: 11\n"
     ]
    },
    {
     "data": {
      "image/png": "[encoded data removed]",
      "text/plain": [
       "<Figure size 640x480 with 1 Axes>"
      ]
     },
     "metadata": {},
     "output_type": "display_data"
    }
   ],
   "source": [
    "from scipy.optimize import minimize\n",
    "\n",
    "def solve_by_bfgs(x_0, m):\n",
    "    \"\"\"\n",
    "    Solves the control problem using BFGS, with initial condition x_0 and estimated mass m.\n",
    "      :param float x_0: Initial condition.\n",
    "      :param float m: Estimation of the mass.\n",
    "      :return np.ndarray[float]: \n",
    "    \"\"\"\n",
    "    res = minimize(lambda u: J(u, x_0, m), np.zeros(N), method='BFGS', jac=lambda u: grad_J(u, x_0, m), options={'disp': True})\n",
    "    return res.x\n",
    "\n",
    "x_0 = -1\n",
    "bfgs_u = solve_by_bfgs(x_0, m)\n",
    "_, _, gt_u = ground_truth_sample(x_0=x_0)\n",
    "plot_control(predicted_u=bfgs_u, gt_u=gt_u, T=T)"
   ]
  },
  {
   "attachments": {},
   "cell_type": "markdown",
   "id": "409f8888",
   "metadata": {},
   "source": [
    "From this control, we'd like to derive the associated trajectory, so let's code a simulator using the reccurence expression derived from our descretization:"
   ]
  },
  {
   "cell_type": "code",
   "execution_count": null,
   "id": "0bb325e3",
   "metadata": {},
   "outputs": [],
   "source": []
  },
  {
   "cell_type": "code",
   "execution_count": 2,
   "id": "74d0a5fe-3c05-4eef-9ef7-ad2d68573b0d",
   "metadata": {},
   "outputs": [],
   "source": [
    "# Introduce the RL method used, justify that it is adapted to the problem"
   ]
  },
  {
   "cell_type": "code",
   "execution_count": null,
   "id": "723572ee-7763-416f-ac84-95db236c0a59",
   "metadata": {},
   "outputs": [],
   "source": [
    "# See what hapens if trying to solve by DP, comment on the dimensionality"
   ]
  },
  {
   "cell_type": "code",
   "execution_count": 6,
   "id": "eb0814d9-794d-4cfb-b517-3a08ee621086",
   "metadata": {},
   "outputs": [],
   "source": [
    "# Solve by RL"
   ]
  },
  {
   "cell_type": "code",
   "execution_count": 10,
   "id": "c7b78d07-4f53-4aef-afdc-a55540734157",
   "metadata": {},
   "outputs": [],
   "source": [
    "# Comment on the benefits, the differences with traditional methods..."
   ]
  },
  {
   "cell_type": "code",
   "execution_count": 11,
   "id": "61dcbeb6-39b9-4759-9a49-215a6abf8ff5",
   "metadata": {},
   "outputs": [],
   "source": [
    "# Introduce variants of the problem and motivate Transfer Learning"
   ]
  },
  {
   "cell_type": "code",
   "execution_count": 12,
   "id": "b92a8d4d-f2aa-4e9e-8e98-c2eb21da346e",
   "metadata": {},
   "outputs": [],
   "source": [
    "# Does the agent perform well on variants of the problem?"
   ]
  },
  {
   "cell_type": "code",
   "execution_count": 9,
   "id": "862f4c64-d239-4132-a2f5-7c792ebd9bef",
   "metadata": {},
   "outputs": [],
   "source": [
    "# Solve by Transfer Learning"
   ]
  },
  {
   "cell_type": "markdown",
   "id": "7d05db42-40dd-48ce-88aa-1f691268a8bf",
   "metadata": {},
   "source": [
    "# Bibliography"
   ]
  }
 ],
 "metadata": {
  "kernelspec": {
   "display_name": "Python 3 (ipykernel)",
   "language": "python",
   "name": "python3"
  },
  "language_info": {
   "codemirror_mode": {
    "name": "ipython",
    "version": 3
   },
   "file_extension": ".py",
   "mimetype": "text/x-python",
   "name": "python",
   "nbconvert_exporter": "python",
   "pygments_lexer": "ipython3",
   "version": "3.10.9"
  }
 },
 "nbformat": 4,
 "nbformat_minor": 5
}
